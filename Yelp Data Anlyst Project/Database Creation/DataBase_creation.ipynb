{
 "cells": [
  {
   "cell_type": "code",
   "execution_count": 1,
   "id": "cddcf18e-6536-4e27-8a3a-066c6653aa76",
   "metadata": {},
   "outputs": [],
   "source": [
    "import pandas as pd\n",
    "import json\n",
    "from sqlalchemy import create_engine"
   ]
  },
  {
   "cell_type": "code",
   "execution_count": 2,
   "id": "20bb4646-e6c8-45fe-873e-2fa0331ab1fa",
   "metadata": {},
   "outputs": [],
   "source": [
    "# 1. Load the Business Data with explicit UTF-8 encoding\n",
    "with open('yelp_academic_dataset_business.json', 'r', encoding='utf-8') as f:\n",
    "    business_data = [json.loads(line) for line in f]\n",
    "business_df = pd.DataFrame(business_data)"
   ]
  },
  {
   "cell_type": "code",
   "execution_count": null,
   "id": "55059e6c-6d2f-4e6d-abbf-d806c2e2533a",
   "metadata": {},
   "outputs": [],
   "source": []
  },
  {
   "cell_type": "code",
   "execution_count": 3,
   "id": "cb6aa9c2-b606-4890-8392-fd1280ef5ff9",
   "metadata": {},
   "outputs": [],
   "source": [
    "# 2. Load the Checkin Data\n",
    "# Note: The original image had a potential typo (chicken_data), corrected here.\n",
    "with open('yelp_academic_dataset_checkin.json', 'r' ,  encoding='utf-8') as f:\n",
    "    checkin_data = [json.loads(line) for line in f]\n",
    "checkin_df = pd.DataFrame(checkin_data)"
   ]
  },
  {
   "cell_type": "code",
   "execution_count": null,
   "id": "04afaee9-653f-49b0-ba46-f9b53af4e71c",
   "metadata": {},
   "outputs": [],
   "source": []
  },
  {
   "cell_type": "code",
   "execution_count": 4,
   "id": "059b132e-5d28-4365-a5c8-a0351a68789a",
   "metadata": {},
   "outputs": [],
   "source": [
    "# 3. Load the Review Data\n",
    "with open('yelp_academic_dataset_review.json', 'r' ,  encoding='utf-8') as f:\n",
    "    review_data = [json.loads(line) for line in f]\n",
    "review_df = pd.DataFrame(review_data)"
   ]
  },
  {
   "cell_type": "code",
   "execution_count": null,
   "id": "3c8c1de0-5ab7-4239-8e90-d20ef8de0691",
   "metadata": {},
   "outputs": [],
   "source": []
  },
  {
   "cell_type": "code",
   "execution_count": 5,
   "id": "b28577b4-ccea-4950-baef-e13b9207c071",
   "metadata": {},
   "outputs": [],
   "source": [
    "# 4. Load the Tip Data\n",
    "with open('yelp_academic_dataset_tip.json', 'r' ,  encoding='utf-8') as f:\n",
    "    tip_data = [json.loads(line) for line in f]\n",
    "tip_df = pd.DataFrame(tip_data)"
   ]
  },
  {
   "cell_type": "code",
   "execution_count": 6,
   "id": "2e5eb45c-fe89-48f7-98c1-80ae9cb979e3",
   "metadata": {},
   "outputs": [],
   "source": [
    "\n",
    "# 5. Load the User Data\n",
    "with open('yelp_academic_dataset_user.json', 'r' ,  encoding='utf-8') as f:\n",
    "    user_data = [json.loads(line) for line in f]\n",
    "user_df = pd.DataFrame(user_data)\n",
    "\n",
    "#  now have five pandas DataFrames:\n",
    "# business_df, checkin_df, review_df, tip_df, user_df"
   ]
  },
  {
   "cell_type": "code",
   "execution_count": 7,
   "id": "771d4eff-4c79-4de2-bb7f-aa656ed688e9",
   "metadata": {},
   "outputs": [
    {
     "name": "stdout",
     "output_type": "stream",
     "text": [
      "(150346, 14)\n",
      "(131930, 2)\n",
      "(6990280, 9)\n",
      "(908915, 5)\n",
      "(908915, 5)\n"
     ]
    }
   ],
   "source": [
    "print(business_df.shape)\n",
    "print(checkin_df.shape)\n",
    "print(review_df.shape)\n",
    "print(tip_df.shape)\n",
    "print(tip_df.shape)"
   ]
  },
  {
   "cell_type": "code",
   "execution_count": null,
   "id": "5d7b3153-87ec-42dc-8e9d-c0b717a86f21",
   "metadata": {},
   "outputs": [],
   "source": []
  },
  {
   "cell_type": "code",
   "execution_count": 8,
   "id": "66ad5e96-1b22-4281-89ca-3720862ffafa",
   "metadata": {},
   "outputs": [],
   "source": [
    "business_df.drop([\"attributes\" ,\"hours\"] , axis =1, inplace =True)"
   ]
  },
  {
   "cell_type": "code",
   "execution_count": 9,
   "id": "0955d956-c163-40c7-97e4-173d95dd3a02",
   "metadata": {},
   "outputs": [],
   "source": [
    "engine = create_engine('sqlite:///yelp.db')"
   ]
  },
  {
   "cell_type": "code",
   "execution_count": 10,
   "id": "0491e088-4e53-4f00-9d7a-a2dad489bc36",
   "metadata": {},
   "outputs": [],
   "source": [
    "def load_dataframe(df, table_name, engine):\n",
    "    df.to_sql(table_name, con=engine, if_exists='replace', index=False)"
   ]
  },
  {
   "cell_type": "code",
   "execution_count": 11,
   "id": "60b4cfb9-eb5e-4c44-b440-ab183a725e2c",
   "metadata": {},
   "outputs": [],
   "source": [
    "load_dataframe(business_df, 'business', engine)\n",
    "load_dataframe(review_df, 'review', engine)\n",
    "load_dataframe(user_df, 'user', engine)\n",
    "load_dataframe(tip_df, 'tip', engine)\n",
    "load_dataframe(checkin_df, 'checkin', engine)"
   ]
  }
 ],
 "metadata": {
  "kernelspec": {
   "display_name": "Python 3 (ipykernel)",
   "language": "python",
   "name": "python3"
  },
  "language_info": {
   "codemirror_mode": {
    "name": "ipython",
    "version": 3
   },
   "file_extension": ".py",
   "mimetype": "text/x-python",
   "name": "python",
   "nbconvert_exporter": "python",
   "pygments_lexer": "ipython3",
   "version": "3.12.10"
  }
 },
 "nbformat": 4,
 "nbformat_minor": 5
}
